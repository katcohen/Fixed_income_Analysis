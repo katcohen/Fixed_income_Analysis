{
 "cells": [
  {
   "cell_type": "code",
   "execution_count": 2,
   "id": "7bca48c1-ffe0-45ce-b1e7-35e17ee030fc",
   "metadata": {},
   "outputs": [
    {
     "name": "stdout",
     "output_type": "stream",
     "text": [
      "['calculate_dcf']\n"
     ]
    }
   ],
   "source": [
    "from pathlib import Path\n",
    "import sys, inspect\n",
    "\n",
    "PROJECT_ROOT = Path.cwd().parents[1]\n",
    "sys.path.append(str(PROJECT_ROOT))\n",
    "import dcf_models as dcf\n",
    "\n",
    "print([n for n in dir(dcf) if not n.startswith(\"_\")])\n",
    "# If short, you can also peek:\n",
    "# print(inspect.getsource(dcf))\n",
    "\n",
    "# Try likely function names and alias them to the names you want to use:\n",
    "dcf_npv = (\n",
    "    getattr(dcf, \"dcf_npv\", None)\n",
    "    or getattr(dcf, \"npv\", None)\n",
    "    or getattr(dcf, \"present_value\", None)\n",
    "    or getattr(dcf, \"discounted_cash_flow\", None)\n",
    ")"
   ]
  },
  {
   "cell_type": "code",
   "execution_count": 4,
   "id": "5f4de7a3-de2d-46a7-b078-7361259702ed",
   "metadata": {},
   "outputs": [],
   "source": [
    "# 1) Minimal NPV function (annual compounding; times in years)\n",
    "def dcf_npv(cash_flows, r, times=None, freq=1):\n",
    "    \"\"\"\n",
    "    cash_flows: list of CFs [CF1, CF2, ...]\n",
    "    r: annual discount rate (decimal, e.g. 0.045)\n",
    "    times: optional list of times in YEARS; default = 1..N\n",
    "    freq: if CFs are per period (e.g., semiannual), set freq=2 and times in years\n",
    "    \"\"\"\n",
    "    if times is None:\n",
    "        times = range(1, len(cash_flows)+1)\n",
    "    if freq == 1:\n",
    "        return sum(cf / ((1 + r) ** t) for cf, t in zip(cash_flows, times))\n",
    "    else:\n",
    "        # per-period compounding when freq > 1\n",
    "        return sum(cf / ((1 + r/freq) ** int(round(t*freq))) for cf, t in zip(cash_flows, times))"
   ]
  },
  {
   "cell_type": "code",
   "execution_count": 5,
   "id": "683901ac-6a75-441a-9f2f-289e5a7443ca",
   "metadata": {},
   "outputs": [
    {
     "name": "stdout",
     "output_type": "stream",
     "text": [
      "DCF NPV: 119.73\n",
      "✔ Saved: /Users/katherinecohen/Documents/FixedIncomePortfolio/outputs/04_DCF/dcf_npv.txt\n"
     ]
    }
   ],
   "source": [
    "# 2) Example + save artifact\n",
    "from pathlib import Path\n",
    "import os\n",
    "\n",
    "PROJECT_ROOT = Path.cwd().parents[1]\n",
    "out_dir = PROJECT_ROOT / \"outputs\" / \"04_DCF\"\n",
    "out_dir.mkdir(parents=True, exist_ok=True)\n",
    "\n",
    "cash_flows = [10, 10, 10, 110]             # yearly coupon 10, redemption 100\n",
    "npv = dcf_npv(cash_flows=cash_flows, r=0.045)\n",
    "\n",
    "print(f\"DCF NPV: {npv:.2f}\")\n",
    "with open(out_dir / \"dcf_npv.txt\", \"w\") as f:\n",
    "    f.write(f\"NPV={npv:.2f}\")\n",
    "print(\"✔ Saved:\", out_dir / \"dcf_npv.txt\")"
   ]
  },
  {
   "cell_type": "markdown",
   "id": "342b0a52-a17c-4e5a-a673-01ee5100751e",
   "metadata": {},
   "source": [
    "Valuation Decomposition\n",
    "PV of coupons (4 payments of 10): 35.88\n",
    "PV of principal (100 at 𝑡 = 4): 83.86\n",
    "Total price: 119.73 (= 35.88 + 83.86)\n",
    "\n",
    "Interest-Rate Risk (per 100 face)\n",
    "\n",
    "Computed at 𝑦 = 4.50% with annual coupons/maturity T=4 years:\n",
    "Macaulay duration: 3.534 years\n",
    "Modified duration: 3.382 years\n",
    "Convexity: 15.481 years²\n",
    "DV01: 0.0405 (≈ 4.05 per bp)\n",
    "\n",
    "At this price and yield, ±10 bp implies roughly ∓0.34–0.35% (before convexity), and convexity adds a slight cushion on sell-offs and a slight boost on rallies for larger moves.\n",
    "\n",
    "Implications & Recommendations\n",
    "\n",
    "Valuation: At a 4.50% required return, 119.73 is fair value. If the market price is below this level, the bond is undervalued (positive NPV at 4.5%); above it, overvalued versus your hurdle rate.\n",
    "\n",
    "Risk Posture: With moderate duration ~3.38y, rate risk is moderate. For mandate-level duration targeting, hedge or add duration accordingly using the DV01 to scale.\n",
    "\n",
    "Carry vs. price risk: This is a carry-rich position (10% coupon) whose premium will pull down toward par. In a bearish rates view, consider trimming exposure or overlaying a modest short-duration hedge to reduce steepening/parallel-shift sensitivity by the desired number of bp*DV01. In a bullish view, maintaining exposure captures convexity-aided upside.\n",
    "\n",
    "Reinvestment & conventions: This result assumes annual compounding, no taxes/fees, and reinvestment at the discount rate. For production use, align frequency (e.g., semiannual), day-count, and accrued-interest handling with market conventions to avoid small but persistent biases.\n",
    "\n",
    "Reproducibility (key figures)\n",
    "\n",
    "Price: 119.7314\n",
    "\n",
    "PV(coupons)/PV(principal): 35.8753 / 83.8561\n",
    "\n",
    "Macaulay / Modified duration: 3.5341 / 3.3819\n",
    "\n",
    "Convexity: 15.4805\n",
    "\n",
    "DV01: 0.04049\n",
    "\n",
    "Reprice @ 5.00% / 4.00%: 117.7298 / 121.7794\n",
    "\n",
    "These diagnostics provide both a point-in-time valuation and a set of actionable levers (duration/DV01, convexity, horizon carry) to align the position with your rate outlook and risk budget."
   ]
  }
 ],
 "metadata": {
  "kernelspec": {
   "display_name": "Python 3 (ipykernel)",
   "language": "python",
   "name": "python3"
  },
  "language_info": {
   "codemirror_mode": {
    "name": "ipython",
    "version": 3
   },
   "file_extension": ".py",
   "mimetype": "text/x-python",
   "name": "python",
   "nbconvert_exporter": "python",
   "pygments_lexer": "ipython3",
   "version": "3.13.7"
  }
 },
 "nbformat": 4,
 "nbformat_minor": 5
}
