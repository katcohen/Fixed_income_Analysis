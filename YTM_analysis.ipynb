{
 "cells": [
  {
   "cell_type": "code",
   "execution_count": 2,
   "id": "c545cd13-6e5f-4383-97a1-6d3f9224d519",
   "metadata": {},
   "outputs": [],
   "source": [
    "from pathlib import Path\n",
    "import sys, os, numpy as np\n",
    "\n",
    "PROJECT_ROOT = Path.cwd().parents[1]\n",
    "sys.path.append(str(PROJECT_ROOT))\n",
    "\n",
    "price_from_ytm = None\n",
    "ytm_from_price = None\n",
    "\n",
    "try:\n",
    "    import ytm_analysis as \n",
    "    # Try likely names; adjust if needed\n",
    "    price_from_ytm = getattr(ya, \"price_from_ytm\", None) or getattr(ya, \"bond_price\", None) or getattr(ya, \"price_bond\", None)\n",
    "    ytm_from_price = getattr(ya, \"ytm_from_price\", None) or getattr(ya, \"yield_to_maturity\", None) or getattr(ya, \"calculate_ytm\", None) or getattr(ya, \"calc_ytm\", None)\n",
    "except Exception:\n",
    "    pass\n",
    "\n",
    "if price_from_ytm is None or ytm_from_price is None:\n",
    "    # Fallback implementations\n",
    "    def price_from_ytm(face, coupon_rate, ytm, maturity, freq=2):\n",
    "        n = int(round(maturity*freq))\n",
    "        c = face * coupon_rate / freq\n",
    "        r = ytm / freq\n",
    "        t = np.arange(1, n+1)\n",
    "        return (c / (1+r)**t).sum() + face / (1+r)**n\n",
    "\n",
    "    def ytm_from_price(face, coupon_rate, price, maturity, freq=2, guess=0.05, tol=1e-10, maxiter=100):\n",
    "        y = guess\n",
    "        for _ in range(maxiter):\n",
    "            n = int(round(maturity*freq))\n",
    "            c = face * coupon_rate / freq\n",
    "            r = y / freq\n",
    "            t = np.arange(1, n+1)\n",
    "            pv = (c / (1+r)**t).sum() + face / (1+r)**n\n",
    "            f  = pv - price\n",
    "            # dP/dy = (dP/dr)*(1/freq); dP/dr = -Σ t*c/(1+r)^(t+1) - n*F/(1+r)^(n+1)\n",
    "            dP_dr = - ( (t*c / (1+r)**(t+1)).sum() + (n*face) / (1+r)**(n+1) )\n",
    "            dP_dy = dP_dr / freq\n",
    "            y_new = y - f / dP_dy\n",
    "            if abs(y_new - y) < tol:\n",
    "                return y_new\n",
    "            y = y_new\n",
    "        return y"
   ]
  },
  {
   "cell_type": "code",
   "execution_count": 3,
   "id": "53d458c2-1fa3-4b47-b1ba-9020f8e5aaff",
   "metadata": {},
   "outputs": [
    {
     "name": "stdout",
     "output_type": "stream",
     "text": [
      "Price: 100.67 | Backed-out YTM: 4.350%\n",
      "✔ Saved: /Users/katherinecohen/Documents/FixedIncomePortfolio/outputs/03_YTM/example.txt\n"
     ]
    }
   ],
   "source": [
    "# Example: 5y 4.5% coupon, 4.35% YTM, face 100, semiannual\n",
    "price = price_from_ytm(face=100, coupon_rate=0.045, ytm=0.0435, maturity=5, freq=2)\n",
    "ytm   = ytm_from_price(face=100, coupon_rate=0.045, price=price, maturity=5, freq=2)\n",
    "\n",
    "print(f\"Price: {price:.2f} | Backed-out YTM: {ytm*100:.3f}%\")\n",
    "\n",
    "out_dir = PROJECT_ROOT / \"outputs\" / \"03_YTM\"\n",
    "os.makedirs(out_dir, exist_ok=True)\n",
    "with open(out_dir / \"example.txt\", \"w\") as f:\n",
    "    f.write(f\"Price={price:.2f}, YTM={ytm:.5f}\")\n",
    "print(\"✔ Saved:\", out_dir / \"example.txt\")"
   ]
  },
  {
   "cell_type": "markdown",
   "id": "49939a7f-488c-4ae6-b967-0d48ad3464f7",
   "metadata": {},
   "source": [
    "Valuation\n",
    "Pricing a 5-year, 4.5% semiannual coupon at a 4.35% YTM produces 100.67 per 100 face, and inverting back to yield returns 4.350%, confirming your price_from_ytm / ytm_from_price pair is internally consistent under semiannual compounding. The small premium (price > par) reflects coupon > yield. Decomposing the price: the PV of coupons ≈ 20.03 and PV of principal ≈ 80.64, so ~20% of the value is coupon carry and ~80% is return of principal. With yields unchanged, the one-year expected holding-period return is essentially the yield: \n",
    "HPR≈4.35% (numerically ~4.35%), driven mostly by coupons with only a minor price drift (100.67 → ~100.55 in a year at the same YTM).\n",
    "\n",
    "Risk diagnostics (per 100 face, semiannual)\n",
    "At this price/yield, Macaulay duration ≈ 4.535y, modified duration ≈ 4.438y, DV01 ≈ 0.0447 (≈4.47¢ per bp), and convexity ≈ 23.10y². First-order sensitivity implies a ±10 bp parallel move changes price by about ∓0.44%.\n",
    "\n",
    "Portfolio implications\n",
    "Given a moderate duration ~4.44y and DV01 ~4.47¢/bp, this is a modest-risk, near-par asset suitable for anchoring belly exposure. If you’re managing to a DV01 budget, scale position size by the 4.47¢/bp figure to align total rate sensitivity with policy limits. In a bearish rate view, you can trim exposure or overlay a small short-duration hedge (e.g., TY futures or pay-fixed IRS) calibrated to the desired DV01 reduction; in a bullish view, maintaining exposure captures coupon carry and convexity-aided upside without taking significant premium risk."
   ]
  }
 ],
 "metadata": {
  "kernelspec": {
   "display_name": "Python 3 (ipykernel)",
   "language": "python",
   "name": "python3"
  },
  "language_info": {
   "codemirror_mode": {
    "name": "ipython",
    "version": 3
   },
   "file_extension": ".py",
   "mimetype": "text/x-python",
   "name": "python",
   "nbconvert_exporter": "python",
   "pygments_lexer": "ipython3",
   "version": "3.13.7"
  }
 },
 "nbformat": 4,
 "nbformat_minor": 5
}
