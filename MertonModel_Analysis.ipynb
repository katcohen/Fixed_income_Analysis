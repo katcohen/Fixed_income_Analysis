{
 "cells": [
  {
   "cell_type": "code",
   "execution_count": 5,
   "id": "4c71afe4-29ae-4393-991c-938944b2258b",
   "metadata": {},
   "outputs": [],
   "source": [
    "# If your class is in credit_risk_models.py at project root:\n",
    "from pathlib import Path\n",
    "import sys\n",
    "sys.path.append(str(Path.cwd().parents[1]))  # so Python can see your project files\n",
    "from credit_risk_models import MertonModel\n",
    "\n",
    "model = MertonModel(\n",
    "    asset_value=25_000_000_000,   # VA\n",
    "    debt_value=22_000_000_000,    # D\n",
    "    risk_free_rate=0.045,         # r (4.5%)\n",
    "    sigma_asset=0.35,             # σ_A (35%)\n",
    "    time_to_maturity=1.0          # T (years)\n",
    ")"
   ]
  },
  {
   "cell_type": "code",
   "execution_count": 6,
   "id": "b930f431-7cc6-4419-93b1-d6cd15198d7c",
   "metadata": {},
   "outputs": [],
   "source": [
    "import numpy as np\n",
    "from math import log, sqrt\n",
    "\n",
    "# Pull values from the model you just created\n",
    "VA = model.asset_value\n",
    "D = model.debt_value\n",
    "r = model.risk_free_rate\n",
    "sigma = model.sigma_asset\n",
    "T = model.time_to_maturity"
   ]
  },
  {
   "cell_type": "code",
   "execution_count": 7,
   "id": "f70dcbc9-6d22-4e62-8a8a-acbef85c9621",
   "metadata": {},
   "outputs": [
    {
     "name": "stdout",
     "output_type": "stream",
     "text": [
      "Distance-to-Default: 0.32σ\n",
      "PD (1y): 37.49%\n"
     ]
    }
   ],
   "source": [
    "# d2 is Distance-to-Default\n",
    "d1 = (log(VA/D) + (r + 0.5*sigma**2)*T) / (sigma*sqrt(T))\n",
    "d2 = d1 - sigma*sqrt(T)\n",
    "\n",
    "pd_1y = model.calculate_default_probability()\n",
    "\n",
    "print(f\"Distance-to-Default: {d2:.2f}σ\")\n",
    "print(f\"PD (1y): {pd_1y:.2%}\")"
   ]
  },
  {
   "cell_type": "markdown",
   "id": "593f5409-bb35-4a5c-8e19-c7d7337fffee",
   "metadata": {},
   "source": [
    "Executive summary\n",
    "\n",
    "Distance-to-Default (DD): 0.32σ — the firm’s asset value sits only ~0.32 standard deviations above the default barrier at the 1-year horizon; that is a very thin cushion.\n",
    "\n",
    "Risk-neutral PD(1y): 37.49% — default probability over one year is elevated, consistent with distressed credit. (In the Merton setup, PD ≈ Φ(−DD); Φ(−0.32) ≈ 37.5%.)\n",
    "\n",
    "What this means economically\n",
    "\n",
    "In the structural model, equity is a call option on assets and default occurs if assets fall below the debt due at maturity. A DD of 0.32σ implies the firm is close to the boundary: modest adverse shocks in asset value or volatility could push it into default. Compared with typical investment-grade credits (DD often > 3σ, PDs ≪ 1%), your metrics indicate high leverage and/or high asset volatility relative to the debt load and horizon.\n",
    "\n",
    "If we illustrate with common parameters (purely for intuition): assume T=1 year, r=3%, and asset volatility σ_A=30%. Your DD=0.32 implies an “effective” log asset cushion of roughly ln(V/D) ≈ 0.11, i.e., V/D ≈ 1.12—assets only ~12% above the face of debt. Under such conditions, the hazard rate proxy is λ ≈ −ln(1−PD) ≈ 0.47, and a back-of-the-envelope “fair” one-year spread with LGD=60% is λ×LGD ≈ 28% p.a.—a distressed-level indication. (This is a risk-neutral, one-period heuristic; real-world spreads depend on liquidity, recovery, and term structure.)\n",
    "\n",
    "Sensitivities and levers\n",
    "\n",
    "Merton’s mechanics make the drivers explicit:\n",
    "\n",
    "Leverage (V/D): Increasing the asset buffer raises d2 and reduces PD. Rule of thumb: a +5% rise in V lifts DD by ~ln(1.05)/(σ√T). With σ=30%, T=1, that adds ~0.16 to DD, cutting PD by ≈3.8–6 p.p. (using ∂PD/∂DD ≈ −φ(DD)).\n",
    "\n",
    "Asset volatility (σ_A): Lower σ increases DD both by shrinking the denominator and by reducing the 0.5σ²T drag in the numerator. For the illustrative case, dropping σ from 30% to 20% (holding V/D and r constant) would raise DD from ~0.32 to ~0.61 and reduce PD from ~37% to ~27%—helpful, but still elevated.\n",
    "\n",
    "Horizon (T): With a small DD, lengthening T often raises PD (more time for adverse diffusion) unless the expected drift in assets is sufficiently strong. Extending maturities without altering leverage/volatility doesn’t guarantee improvement in one-year PD.\n",
    "\n",
    "Risk management implications\n",
    "\n",
    "Capital structure: De-lever (equity raise, asset sales, junior capital, or debt buybacks) to increase V/D; avoid near-term maturities that create a “cliff” at T.\n",
    "\n",
    "Volatility management: Hedge major risk drivers (FX, commodity, rate, concentration); prioritize stable, collateralizable cash flows; tighten working-capital variability. Lower σ_A is directly PD-reducing.\n",
    "\n",
    "Liquidity & terming-out: Build cash buffers and refinance into longer, staggered maturities with covenants aligned to realistic volatility—this reduces barrier pressure at the horizon and execution risk.\n",
    "\n",
    "Monitoring: Track equity-implied asset volatility and distance-to-default through time. Because PD ≈ Φ(−DD), small changes in DD around 0.3σ move PD by multiple percentage points; e.g., +0.10 in DD typically reduces PD by ~3–4 p.p.\n",
    "\n",
    "Model considerations\n",
    "\n",
    "Probability of default is risk-neutral. For credit risk management or rating-style metrics, consider mapping to real-world PD and extend beyond single-maturity debt (Merton treats one terminal barrier)."
   ]
  }
 ],
 "metadata": {
  "kernelspec": {
   "display_name": "Python 3 (ipykernel)",
   "language": "python",
   "name": "python3"
  },
  "language_info": {
   "codemirror_mode": {
    "name": "ipython",
    "version": 3
   },
   "file_extension": ".py",
   "mimetype": "text/x-python",
   "name": "python",
   "nbconvert_exporter": "python",
   "pygments_lexer": "ipython3",
   "version": "3.13.7"
  }
 },
 "nbformat": 4,
 "nbformat_minor": 5
}
