from pathlib import Path
import sys, os, numpy as np, matplotlib.pyplot as plt
from interest_rate_models import CoxIngersollRossModel

# Adjust project path if needed
PROJECT_ROOT = Path.cwd().parents[1]  # go up from notebooks/01_CIR
sys.path.append(str(PROJECT_ROOT))

# --- Baseline: Higher-for-Longer, Mild Tariff Pass-Through ---
np.random.seed(42)
cir = CoxIngersollRossModel(r0=0.053, k=0.55, theta=0.0325, sigma=0.020)
path = cir.simulate_short_rate(T=2.0, steps=504)
plt.plot(np.array(path) * 100)
plt.title("CIR simulated short rate (%) — Baseline")
plt.grid(True); plt.show()

# --- Tariff Escalation: Upside Inflation Risk ---
np.random.seed(42)
cir = CoxIngersollRossModel(r0=0.053, k=0.45, theta=0.0350, sigma=0.025)
path = cir.simulate_short_rate(T=2.0, steps=504)
plt.plot(np.array(path) * 100)
plt.title("CIR simulated short rate (%) — Tariff Escalation")
plt.grid(True); plt.show()

# --- De-escalation / Growth Slowdown: Disinflation Tails ---
np.random.seed(42)
cir = CoxIngersollRossModel(r0=0.053, k=0.80, theta=0.0275, sigma=0.015)
path = cir.simulate_short_rate(T=2.0, steps=504)
plt.plot(np.array(path) * 100)
plt.title("CIR simulated short rate (%) — De-escalation")
plt.grid(True); plt.show()
