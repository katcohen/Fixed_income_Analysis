{
 "cells": [
  {
   "cell_type": "code",
   "execution_count": 2,
   "id": "c545cd13-6e5f-4383-97a1-6d3f9224d519",
   "metadata": {},
   "outputs": [],
   "source": [
    "from pathlib import Path\n",
    "import sys, os, numpy as np\n",
    "\n",
    "PROJECT_ROOT = Path.cwd().parents[1]\n",
    "sys.path.append(str(PROJECT_ROOT))\n",
    "\n",
    "price_from_ytm = None\n",
    "ytm_from_price = None\n",
    "\n",
    "try:\n",
    "    import ytm_analysis as \n",
    "    # Try likely names; adjust if needed\n",
    "    price_from_ytm = getattr(ya, \"price_from_ytm\", None) or getattr(ya, \"bond_price\", None) or getattr(ya, \"price_bond\", None)\n",
    "    ytm_from_price = getattr(ya, \"ytm_from_price\", None) or getattr(ya, \"yield_to_maturity\", None) or getattr(ya, \"calculate_ytm\", None) or getattr(ya, \"calc_ytm\", None)\n",
    "except Exception:\n",
    "    pass\n",
    "\n",
    "if price_from_ytm is None or ytm_from_price is None:\n",
    "    # Fallback implementations\n",
    "    def price_from_ytm(face, coupon_rate, ytm, maturity, freq=2):\n",
    "        n = int(round(maturity*freq))\n",
    "        c = face * coupon_rate / freq\n",
    "        r = ytm / freq\n",
    "        t = np.arange(1, n+1)\n",
    "        return (c / (1+r)**t).sum() + face / (1+r)**n\n",
    "\n",
    "    def ytm_from_price(face, coupon_rate, price, maturity, freq=2, guess=0.05, tol=1e-10, maxiter=100):\n",
    "        y = guess\n",
    "        for _ in range(maxiter):\n",
    "            n = int(round(maturity*freq))\n",
    "            c = face * coupon_rate / freq\n",
    "            r = y / freq\n",
    "            t = np.arange(1, n+1)\n",
    "            pv = (c / (1+r)**t).sum() + face / (1+r)**n\n",
    "            f  = pv - price\n",
    "            # dP/dy = (dP/dr)*(1/freq); dP/dr = -Σ t*c/(1+r)^(t+1) - n*F/(1+r)^(n+1)\n",
    "            dP_dr = - ( (t*c / (1+r)**(t+1)).sum() + (n*face) / (1+r)**(n+1) )\n",
    "            dP_dy = dP_dr / freq\n",
    "            y_new = y - f / dP_dy\n",
    "            if abs(y_new - y) < tol:\n",
    "                return y_new\n",
    "            y = y_new\n",
    "        return y"
   ]
  },
  {
   "cell_type": "code",
   "execution_count": 3,
   "id": "53d458c2-1fa3-4b47-b1ba-9020f8e5aaff",
   "metadata": {},
   "outputs": [
    {
     "name": "stdout",
     "output_type": "stream",
     "text": [
      "Price: 100.67 | Backed-out YTM: 4.350%\n",
      "✔ Saved: /Users/katherinecohen/Documents/FixedIncomePortfolio/outputs/03_YTM/example.txt\n"
     ]
    }
   ],
   "source": [
    "# Example: 5y 4.5% coupon, 4.35% YTM, face 100, semiannual\n",
    "price = price_from_ytm(face=100, coupon_rate=0.045, ytm=0.0435, maturity=5, freq=2)\n",
    "ytm   = ytm_from_price(face=100, coupon_rate=0.045, price=price, maturity=5, freq=2)\n",
    "\n",
    "print(f\"Price: {price:.2f} | Backed-out YTM: {ytm*100:.3f}%\")\n",
    "\n",
    "out_dir = PROJECT_ROOT / \"outputs\" / \"03_YTM\"\n",
    "os.makedirs(out_dir, exist_ok=True)\n",
    "with open(out_dir / \"example.txt\", \"w\") as f:\n",
    "    f.write(f\"Price={price:.2f}, YTM={ytm:.5f}\")\n",
    "print(\"✔ Saved:\", out_dir / \"example.txt\")"
   ]
  }
 ],
 "metadata": {
  "kernelspec": {
   "display_name": "Python 3 (ipykernel)",
   "language": "python",
   "name": "python3"
  },
  "language_info": {
   "codemirror_mode": {
    "name": "ipython",
    "version": 3
   },
   "file_extension": ".py",
   "mimetype": "text/x-python",
   "name": "python",
   "nbconvert_exporter": "python",
   "pygments_lexer": "ipython3",
   "version": "3.13.7"
  }
 },
 "nbformat": 4,
 "nbformat_minor": 5
}
